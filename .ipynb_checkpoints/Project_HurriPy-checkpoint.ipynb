{
 "cells": [
  {
   "cell_type": "markdown",
   "metadata": {},
   "source": [
    "## Understanding the cyclone patterns over the past few years"
   ]
  },
  {
   "cell_type": "code",
   "execution_count": 24,
   "metadata": {},
   "outputs": [],
   "source": [
    "# Dependencies and Setup\n",
    "import matplotlib.pyplot as plt\n",
    "import pandas as pd\n",
    "import numpy as np\n",
    "import requests\n",
    "import gmaps\n",
    "import os\n",
    "from scipy.stats import linregress\n",
    "pd.options.mode.chained_assignment = None"
   ]
  },
  {
   "cell_type": "code",
   "execution_count": 25,
   "metadata": {},
   "outputs": [
    {
     "data": {
      "text/html": [
       "<div>\n",
       "<style scoped>\n",
       "    .dataframe tbody tr th:only-of-type {\n",
       "        vertical-align: middle;\n",
       "    }\n",
       "\n",
       "    .dataframe tbody tr th {\n",
       "        vertical-align: top;\n",
       "    }\n",
       "\n",
       "    .dataframe thead th {\n",
       "        text-align: right;\n",
       "    }\n",
       "</style>\n",
       "<table border=\"1\" class=\"dataframe\">\n",
       "  <thead>\n",
       "    <tr style=\"text-align: right;\">\n",
       "      <th></th>\n",
       "      <th>YY-MM-DD</th>\n",
       "      <th>UNIQUE STORM NAME</th>\n",
       "      <th>STATUS OF SYSTEM</th>\n",
       "      <th>LATITUDE</th>\n",
       "      <th>LONGITUDE</th>\n",
       "      <th>WIND SPEED</th>\n",
       "      <th>PRESSURE</th>\n",
       "      <th>SR</th>\n",
       "      <th>YEAR</th>\n",
       "      <th>MONTH</th>\n",
       "      <th>DATE</th>\n",
       "      <th>DDMM</th>\n",
       "      <th>JULIAN</th>\n",
       "      <th>START DATE</th>\n",
       "      <th>END DATE</th>\n",
       "      <th>DURATION</th>\n",
       "      <th>TYPE</th>\n",
       "      <th>DECADE</th>\n",
       "    </tr>\n",
       "  </thead>\n",
       "  <tbody>\n",
       "    <tr>\n",
       "      <th>0</th>\n",
       "      <td>18510625.0</td>\n",
       "      <td>UNNAMED1851176</td>\n",
       "      <td>HU</td>\n",
       "      <td>28.0N</td>\n",
       "      <td>94.8W</td>\n",
       "      <td>80.0</td>\n",
       "      <td>-999.0</td>\n",
       "      <td>1.0</td>\n",
       "      <td>1851.0</td>\n",
       "      <td>6.0</td>\n",
       "      <td>25.0</td>\n",
       "      <td>6/25</td>\n",
       "      <td>176.0</td>\n",
       "      <td>18510625.0</td>\n",
       "      <td>18510628.0</td>\n",
       "      <td>4.0</td>\n",
       "      <td>Unnamed</td>\n",
       "      <td>1850.0</td>\n",
       "    </tr>\n",
       "    <tr>\n",
       "      <th>1</th>\n",
       "      <td>18510705.0</td>\n",
       "      <td>UNNAMED1851186</td>\n",
       "      <td>HU</td>\n",
       "      <td>22.2N</td>\n",
       "      <td>97.6W</td>\n",
       "      <td>80.0</td>\n",
       "      <td>-999.0</td>\n",
       "      <td>15.0</td>\n",
       "      <td>1851.0</td>\n",
       "      <td>7.0</td>\n",
       "      <td>5.0</td>\n",
       "      <td>7/5</td>\n",
       "      <td>186.0</td>\n",
       "      <td>18510705.0</td>\n",
       "      <td>18510705.0</td>\n",
       "      <td>1.0</td>\n",
       "      <td>Unnamed</td>\n",
       "      <td>1850.0</td>\n",
       "    </tr>\n",
       "  </tbody>\n",
       "</table>\n",
       "</div>"
      ],
      "text/plain": [
       "     YY-MM-DD UNIQUE STORM NAME STATUS OF SYSTEM LATITUDE LONGITUDE  \\\n",
       "0  18510625.0    UNNAMED1851176               HU    28.0N     94.8W   \n",
       "1  18510705.0    UNNAMED1851186               HU    22.2N     97.6W   \n",
       "\n",
       "   WIND SPEED  PRESSURE    SR    YEAR  MONTH  DATE  DDMM  JULIAN  START DATE  \\\n",
       "0        80.0    -999.0   1.0  1851.0    6.0  25.0  6/25   176.0  18510625.0   \n",
       "1        80.0    -999.0  15.0  1851.0    7.0   5.0   7/5   186.0  18510705.0   \n",
       "\n",
       "     END DATE  DURATION     TYPE  DECADE  \n",
       "0  18510628.0       4.0  Unnamed  1850.0  \n",
       "1  18510705.0       1.0  Unnamed  1850.0  "
      ]
     },
     "execution_count": 25,
     "metadata": {},
     "output_type": "execute_result"
    }
   ],
   "source": [
    "# Read the csv data and the study results\n",
    "cyclone_df = pd.read_csv(\"raw_data/OR_cleaned_up_atlantic_storms.csv\")\n",
    "\n",
    "# Delete nans\n",
    "dropped_cyclone_df = cyclone_df.dropna(how = \"any\")\n",
    "\n",
    "# Display the DataFrame\n",
    "dropped_cyclone_df.head(2)"
   ]
  },
  {
   "cell_type": "code",
   "execution_count": 26,
   "metadata": {},
   "outputs": [
    {
     "data": {
      "text/plain": [
       "YY-MM-DD             float64\n",
       "UNIQUE STORM NAME     object\n",
       "STATUS OF SYSTEM      object\n",
       "LATITUDE              object\n",
       "LONGITUDE             object\n",
       "WIND SPEED           float64\n",
       "PRESSURE             float64\n",
       "SR                   float64\n",
       "YEAR                 float64\n",
       "MONTH                float64\n",
       "DATE                 float64\n",
       "DDMM                  object\n",
       "JULIAN               float64\n",
       "START DATE           float64\n",
       "END DATE             float64\n",
       "DURATION             float64\n",
       "TYPE                  object\n",
       "DECADE               float64\n",
       "dtype: object"
      ]
     },
     "execution_count": 26,
     "metadata": {},
     "output_type": "execute_result"
    }
   ],
   "source": [
    "# Understand the various data types of the DataFrame\n",
    "cyclone_df.dtypes"
   ]
  },
  {
   "cell_type": "code",
   "execution_count": 27,
   "metadata": {},
   "outputs": [
    {
     "data": {
      "text/html": [
       "<div>\n",
       "<style scoped>\n",
       "    .dataframe tbody tr th:only-of-type {\n",
       "        vertical-align: middle;\n",
       "    }\n",
       "\n",
       "    .dataframe tbody tr th {\n",
       "        vertical-align: top;\n",
       "    }\n",
       "\n",
       "    .dataframe thead th {\n",
       "        text-align: right;\n",
       "    }\n",
       "</style>\n",
       "<table border=\"1\" class=\"dataframe\">\n",
       "  <thead>\n",
       "    <tr style=\"text-align: right;\">\n",
       "      <th></th>\n",
       "      <th>YY-MM-DD</th>\n",
       "      <th>UNIQUE STORM NAME</th>\n",
       "      <th>STATUS OF SYSTEM</th>\n",
       "      <th>LATITUDE</th>\n",
       "      <th>LONGITUDE</th>\n",
       "      <th>WIND SPEED</th>\n",
       "      <th>PRESSURE</th>\n",
       "      <th>SR</th>\n",
       "      <th>YEAR</th>\n",
       "      <th>MONTH</th>\n",
       "      <th>DATE</th>\n",
       "      <th>DDMM</th>\n",
       "      <th>JULIAN</th>\n",
       "      <th>START DATE</th>\n",
       "      <th>END DATE</th>\n",
       "      <th>DURATION</th>\n",
       "      <th>TYPE</th>\n",
       "      <th>DECADE</th>\n",
       "    </tr>\n",
       "  </thead>\n",
       "  <tbody>\n",
       "    <tr>\n",
       "      <th>806</th>\n",
       "      <td>19500812.0</td>\n",
       "      <td>ABLE1950224</td>\n",
       "      <td>TS</td>\n",
       "      <td>17.1N</td>\n",
       "      <td>55.5W</td>\n",
       "      <td>35.0</td>\n",
       "      <td>-999.0</td>\n",
       "      <td>21880.0</td>\n",
       "      <td>1950.0</td>\n",
       "      <td>8.0</td>\n",
       "      <td>12.0</td>\n",
       "      <td>8/12</td>\n",
       "      <td>224.0</td>\n",
       "      <td>19500812.0</td>\n",
       "      <td>19500824.0</td>\n",
       "      <td>13.0</td>\n",
       "      <td>Named</td>\n",
       "      <td>1950</td>\n",
       "    </tr>\n",
       "    <tr>\n",
       "      <th>807</th>\n",
       "      <td>19500818.0</td>\n",
       "      <td>BAKER1950230</td>\n",
       "      <td>TD</td>\n",
       "      <td>12.0N</td>\n",
       "      <td>54.0W</td>\n",
       "      <td>30.0</td>\n",
       "      <td>-999.0</td>\n",
       "      <td>21931.0</td>\n",
       "      <td>1950.0</td>\n",
       "      <td>8.0</td>\n",
       "      <td>18.0</td>\n",
       "      <td>8/18</td>\n",
       "      <td>230.0</td>\n",
       "      <td>19500818.0</td>\n",
       "      <td>19500901.0</td>\n",
       "      <td>84.0</td>\n",
       "      <td>Named</td>\n",
       "      <td>1950</td>\n",
       "    </tr>\n",
       "    <tr>\n",
       "      <th>808</th>\n",
       "      <td>19500821.0</td>\n",
       "      <td>CHARLIE1950233</td>\n",
       "      <td>TS</td>\n",
       "      <td>11.1N</td>\n",
       "      <td>26.4W</td>\n",
       "      <td>35.0</td>\n",
       "      <td>-999.0</td>\n",
       "      <td>21991.0</td>\n",
       "      <td>1950.0</td>\n",
       "      <td>8.0</td>\n",
       "      <td>21.0</td>\n",
       "      <td>8/21</td>\n",
       "      <td>233.0</td>\n",
       "      <td>19500821.0</td>\n",
       "      <td>19500905.0</td>\n",
       "      <td>85.0</td>\n",
       "      <td>Named</td>\n",
       "      <td>1950</td>\n",
       "    </tr>\n",
       "    <tr>\n",
       "      <th>809</th>\n",
       "      <td>19500830.0</td>\n",
       "      <td>DOG1950242</td>\n",
       "      <td>HU</td>\n",
       "      <td>15.2N</td>\n",
       "      <td>55.6W</td>\n",
       "      <td>80.0</td>\n",
       "      <td>-999.0</td>\n",
       "      <td>22052.0</td>\n",
       "      <td>1950.0</td>\n",
       "      <td>8.0</td>\n",
       "      <td>30.0</td>\n",
       "      <td>8/30</td>\n",
       "      <td>242.0</td>\n",
       "      <td>19500830.0</td>\n",
       "      <td>19500918.0</td>\n",
       "      <td>89.0</td>\n",
       "      <td>Named</td>\n",
       "      <td>1950</td>\n",
       "    </tr>\n",
       "    <tr>\n",
       "      <th>810</th>\n",
       "      <td>19500901.0</td>\n",
       "      <td>EASY1950244</td>\n",
       "      <td>TS</td>\n",
       "      <td>19.7N</td>\n",
       "      <td>83.2W</td>\n",
       "      <td>40.0</td>\n",
       "      <td>-999.0</td>\n",
       "      <td>22126.0</td>\n",
       "      <td>1950.0</td>\n",
       "      <td>9.0</td>\n",
       "      <td>1.0</td>\n",
       "      <td>9/1</td>\n",
       "      <td>244.0</td>\n",
       "      <td>19500901.0</td>\n",
       "      <td>19500909.0</td>\n",
       "      <td>9.0</td>\n",
       "      <td>Named</td>\n",
       "      <td>1950</td>\n",
       "    </tr>\n",
       "  </tbody>\n",
       "</table>\n",
       "</div>"
      ],
      "text/plain": [
       "       YY-MM-DD UNIQUE STORM NAME STATUS OF SYSTEM LATITUDE LONGITUDE  \\\n",
       "806  19500812.0       ABLE1950224               TS    17.1N     55.5W   \n",
       "807  19500818.0      BAKER1950230               TD    12.0N     54.0W   \n",
       "808  19500821.0    CHARLIE1950233               TS    11.1N     26.4W   \n",
       "809  19500830.0        DOG1950242               HU    15.2N     55.6W   \n",
       "810  19500901.0       EASY1950244               TS    19.7N     83.2W   \n",
       "\n",
       "     WIND SPEED  PRESSURE       SR    YEAR  MONTH  DATE  DDMM  JULIAN  \\\n",
       "806        35.0    -999.0  21880.0  1950.0    8.0  12.0  8/12   224.0   \n",
       "807        30.0    -999.0  21931.0  1950.0    8.0  18.0  8/18   230.0   \n",
       "808        35.0    -999.0  21991.0  1950.0    8.0  21.0  8/21   233.0   \n",
       "809        80.0    -999.0  22052.0  1950.0    8.0  30.0  8/30   242.0   \n",
       "810        40.0    -999.0  22126.0  1950.0    9.0   1.0   9/1   244.0   \n",
       "\n",
       "     START DATE    END DATE  DURATION   TYPE  DECADE  \n",
       "806  19500812.0  19500824.0      13.0  Named    1950  \n",
       "807  19500818.0  19500901.0      84.0  Named    1950  \n",
       "808  19500821.0  19500905.0      85.0  Named    1950  \n",
       "809  19500830.0  19500918.0      89.0  Named    1950  \n",
       "810  19500901.0  19500909.0       9.0  Named    1950  "
      ]
     },
     "execution_count": 27,
     "metadata": {},
     "output_type": "execute_result"
    }
   ],
   "source": [
    "# Convert the data type for the decade column from float to integer\n",
    "dropped_cyclone_df[\"DECADE\"]=dropped_cyclone_df[\"DECADE\"].astype({\"DECADE\":int})\n",
    "dropped_cyclone_df.drop(dropped_cyclone_df[dropped_cyclone_df[\"DECADE\"] <= 1940].index, inplace = True)\n",
    "dropped_cyclone_df.head()"
   ]
  },
  {
   "cell_type": "markdown",
   "metadata": {},
   "source": [
    "## Named vs. unnamed cyclones since 1950"
   ]
  },
  {
   "cell_type": "code",
   "execution_count": 28,
   "metadata": {},
   "outputs": [
    {
     "data": {
      "text/plain": [
       "<Figure size 1440x1440 with 0 Axes>"
      ]
     },
     "metadata": {},
     "output_type": "display_data"
    },
    {
     "data": {
      "image/png": "[encoded data removed]",
      "text/plain": [
       "<Figure size 432x288 with 1 Axes>"
      ]
     },
     "metadata": {
      "needs_background": "light"
     },
     "output_type": "display_data"
    }
   ],
   "source": [
    "# Create an array that contains the number of named and unnamed cyclones\n",
    "decades = dropped_cyclone_df[\"DECADE\"].unique()\n",
    "x_axis = np.arange(len(decades))\n",
    "y_axis = dropped_cyclone_df[\"DURATION\"].max()\n",
    "\n",
    "# Generate a plot and set the textual properties\n",
    "plt.figure(figsize=(20, 20))\n",
    "dropped_cyclone_df.groupby([\"DECADE\", \"TYPE\"]).size().unstack().plot(kind = 'bar', stacked=True)\n",
    "width = 1.1\n",
    "\n",
    "# Sets the x limits of the current chart\n",
    "plt.xlim(min(x_axis) - .47, max(x_axis) + .47)\n",
    "\n",
    "# Set plot title and labels\n",
    "plt.title(\"Named vs. Unnamed cyclones\", fontsize = 19)\n",
    "plt.xlabel(\"Decades\", fontsize = 14)\n",
    "plt.ylabel(\"Storm counts\", fontsize = 14)\n",
    "\n",
    "# Show the plot\n",
    "plt.show()"
   ]
  },
  {
   "cell_type": "markdown",
   "metadata": {},
   "source": [
    "## Duration of named cyclones"
   ]
  },
  {
   "cell_type": "code",
   "execution_count": 29,
   "metadata": {},
   "outputs": [
    {
     "data": {
      "text/html": [
       "<div>\n",
       "<style scoped>\n",
       "    .dataframe tbody tr th:only-of-type {\n",
       "        vertical-align: middle;\n",
       "    }\n",
       "\n",
       "    .dataframe tbody tr th {\n",
       "        vertical-align: top;\n",
       "    }\n",
       "\n",
       "    .dataframe thead th {\n",
       "        text-align: right;\n",
       "    }\n",
       "</style>\n",
       "<table border=\"1\" class=\"dataframe\">\n",
       "  <thead>\n",
       "    <tr style=\"text-align: right;\">\n",
       "      <th></th>\n",
       "      <th>YY-MM-DD</th>\n",
       "      <th>UNIQUE STORM NAME</th>\n",
       "      <th>STATUS OF SYSTEM</th>\n",
       "      <th>LATITUDE</th>\n",
       "      <th>LONGITUDE</th>\n",
       "      <th>WIND SPEED</th>\n",
       "      <th>PRESSURE</th>\n",
       "      <th>SR</th>\n",
       "      <th>YEAR</th>\n",
       "      <th>MONTH</th>\n",
       "      <th>DATE</th>\n",
       "      <th>DDMM</th>\n",
       "      <th>JULIAN</th>\n",
       "      <th>START DATE</th>\n",
       "      <th>END DATE</th>\n",
       "      <th>DURATION</th>\n",
       "      <th>TYPE</th>\n",
       "      <th>DECADE</th>\n",
       "    </tr>\n",
       "  </thead>\n",
       "  <tbody>\n",
       "    <tr>\n",
       "      <th>806</th>\n",
       "      <td>19500812.0</td>\n",
       "      <td>ABLE1950224</td>\n",
       "      <td>TS</td>\n",
       "      <td>17.1N</td>\n",
       "      <td>55.5W</td>\n",
       "      <td>35.0</td>\n",
       "      <td>-999.0</td>\n",
       "      <td>21880.0</td>\n",
       "      <td>1950.0</td>\n",
       "      <td>8.0</td>\n",
       "      <td>12.0</td>\n",
       "      <td>8/12</td>\n",
       "      <td>224.0</td>\n",
       "      <td>19500812.0</td>\n",
       "      <td>19500824.0</td>\n",
       "      <td>13.0</td>\n",
       "      <td>Named</td>\n",
       "      <td>1950</td>\n",
       "    </tr>\n",
       "    <tr>\n",
       "      <th>807</th>\n",
       "      <td>19500818.0</td>\n",
       "      <td>BAKER1950230</td>\n",
       "      <td>TD</td>\n",
       "      <td>12.0N</td>\n",
       "      <td>54.0W</td>\n",
       "      <td>30.0</td>\n",
       "      <td>-999.0</td>\n",
       "      <td>21931.0</td>\n",
       "      <td>1950.0</td>\n",
       "      <td>8.0</td>\n",
       "      <td>18.0</td>\n",
       "      <td>8/18</td>\n",
       "      <td>230.0</td>\n",
       "      <td>19500818.0</td>\n",
       "      <td>19500901.0</td>\n",
       "      <td>84.0</td>\n",
       "      <td>Named</td>\n",
       "      <td>1950</td>\n",
       "    </tr>\n",
       "    <tr>\n",
       "      <th>808</th>\n",
       "      <td>19500821.0</td>\n",
       "      <td>CHARLIE1950233</td>\n",
       "      <td>TS</td>\n",
       "      <td>11.1N</td>\n",
       "      <td>26.4W</td>\n",
       "      <td>35.0</td>\n",
       "      <td>-999.0</td>\n",
       "      <td>21991.0</td>\n",
       "      <td>1950.0</td>\n",
       "      <td>8.0</td>\n",
       "      <td>21.0</td>\n",
       "      <td>8/21</td>\n",
       "      <td>233.0</td>\n",
       "      <td>19500821.0</td>\n",
       "      <td>19500905.0</td>\n",
       "      <td>85.0</td>\n",
       "      <td>Named</td>\n",
       "      <td>1950</td>\n",
       "    </tr>\n",
       "    <tr>\n",
       "      <th>809</th>\n",
       "      <td>19500830.0</td>\n",
       "      <td>DOG1950242</td>\n",
       "      <td>HU</td>\n",
       "      <td>15.2N</td>\n",
       "      <td>55.6W</td>\n",
       "      <td>80.0</td>\n",
       "      <td>-999.0</td>\n",
       "      <td>22052.0</td>\n",
       "      <td>1950.0</td>\n",
       "      <td>8.0</td>\n",
       "      <td>30.0</td>\n",
       "      <td>8/30</td>\n",
       "      <td>242.0</td>\n",
       "      <td>19500830.0</td>\n",
       "      <td>19500918.0</td>\n",
       "      <td>89.0</td>\n",
       "      <td>Named</td>\n",
       "      <td>1950</td>\n",
       "    </tr>\n",
       "    <tr>\n",
       "      <th>810</th>\n",
       "      <td>19500901.0</td>\n",
       "      <td>EASY1950244</td>\n",
       "      <td>TS</td>\n",
       "      <td>19.7N</td>\n",
       "      <td>83.2W</td>\n",
       "      <td>40.0</td>\n",
       "      <td>-999.0</td>\n",
       "      <td>22126.0</td>\n",
       "      <td>1950.0</td>\n",
       "      <td>9.0</td>\n",
       "      <td>1.0</td>\n",
       "      <td>9/1</td>\n",
       "      <td>244.0</td>\n",
       "      <td>19500901.0</td>\n",
       "      <td>19500909.0</td>\n",
       "      <td>9.0</td>\n",
       "      <td>Named</td>\n",
       "      <td>1950</td>\n",
       "    </tr>\n",
       "  </tbody>\n",
       "</table>\n",
       "</div>"
      ],
      "text/plain": [
       "       YY-MM-DD UNIQUE STORM NAME STATUS OF SYSTEM LATITUDE LONGITUDE  \\\n",
       "806  19500812.0       ABLE1950224               TS    17.1N     55.5W   \n",
       "807  19500818.0      BAKER1950230               TD    12.0N     54.0W   \n",
       "808  19500821.0    CHARLIE1950233               TS    11.1N     26.4W   \n",
       "809  19500830.0        DOG1950242               HU    15.2N     55.6W   \n",
       "810  19500901.0       EASY1950244               TS    19.7N     83.2W   \n",
       "\n",
       "     WIND SPEED  PRESSURE       SR    YEAR  MONTH  DATE  DDMM  JULIAN  \\\n",
       "806        35.0    -999.0  21880.0  1950.0    8.0  12.0  8/12   224.0   \n",
       "807        30.0    -999.0  21931.0  1950.0    8.0  18.0  8/18   230.0   \n",
       "808        35.0    -999.0  21991.0  1950.0    8.0  21.0  8/21   233.0   \n",
       "809        80.0    -999.0  22052.0  1950.0    8.0  30.0  8/30   242.0   \n",
       "810        40.0    -999.0  22126.0  1950.0    9.0   1.0   9/1   244.0   \n",
       "\n",
       "     START DATE    END DATE  DURATION   TYPE  DECADE  \n",
       "806  19500812.0  19500824.0      13.0  Named    1950  \n",
       "807  19500818.0  19500901.0      84.0  Named    1950  \n",
       "808  19500821.0  19500905.0      85.0  Named    1950  \n",
       "809  19500830.0  19500918.0      89.0  Named    1950  \n",
       "810  19500901.0  19500909.0       9.0  Named    1950  "
      ]
     },
     "execution_count": 29,
     "metadata": {},
     "output_type": "execute_result"
    }
   ],
   "source": [
    "# Create the DataFrame for named cyclones only\n",
    "named_cyclones = dropped_cyclone_df.loc[dropped_cyclone_df[\"TYPE\"] == \"Named\", :]\n",
    "named_cyclones.head()"
   ]
  },
  {
   "cell_type": "code",
   "execution_count": 30,
   "metadata": {},
   "outputs": [
    {
     "data": {
      "image/png": "[encoded data removed]",
      "text/plain": [
       "<Figure size 792x504 with 1 Axes>"
      ]
     },
     "metadata": {
      "needs_background": "light"
     },
     "output_type": "display_data"
    }
   ],
   "source": [
    "# Convert the data type for the decade column from float to integer\n",
    "named_cyclones[\"DECADE\"] = named_cyclones[\"DECADE\"].astype({\"DECADE\":int})\n",
    "\n",
    "# Create an array that contains the duration of each named storm\n",
    "decade = named_cyclones[\"DECADE\"].unique()\n",
    "duration = named_cyclones[\"DURATION\"]\n",
    "x_axis = np.arange(len(duration))\n",
    "\n",
    "# Create a bar chart based upon the above data\n",
    "# We apply align =\"edge\" to ensure our bars line up with our tick marks\n",
    "plt.figure(figsize=(11,7))\n",
    "plt.bar(x_axis, duration, color='r', alpha=0.5, align=\"edge\")\n",
    "\n",
    "# Tell matplotlib where we would like to place each of our x axis headers\n",
    "loc1 = 0\n",
    "loc2 = loc1 + len(named_cyclones.loc[named_cyclones[\"DECADE\"] == 1950])\n",
    "loc3 = loc2 + len(named_cyclones.loc[named_cyclones[\"DECADE\"] == 1960])\n",
    "loc4 = loc3 + len(named_cyclones.loc[named_cyclones[\"DECADE\"] == 1970])\n",
    "loc5 = loc4 + len(named_cyclones.loc[named_cyclones[\"DECADE\"] == 1980])\n",
    "loc6 = loc5 + len(named_cyclones.loc[named_cyclones[\"DECADE\"] == 1990])\n",
    "loc7 = loc6 + len(named_cyclones.loc[named_cyclones[\"DECADE\"] == 2000])\n",
    "tick_locations = [loc1, loc2, loc3, loc4, loc5, loc6, loc7]\n",
    "plt.xticks(tick_locations, decade, rotation = 0)\n",
    "\n",
    "# Sets the x and y limits of the current chart\n",
    "plt.xlim(min(x_axis) - 4, max(x_axis) + 4)\n",
    "plt.ylim(0, max(duration) + 4)\n",
    "\n",
    "# Give our chart some labels and a tile\n",
    "plt.title(\"Duration of cyclones\", fontsize = 19)\n",
    "plt.xlabel(\"Decades\", fontsize = 14)\n",
    "plt.ylabel(\"Days\", fontsize = 14)\n",
    "\n",
    "# Resize the plot\n",
    "plt.tight_layout()\n",
    "\n",
    "# Show the plot\n",
    "plt.show()"
   ]
  },
  {
   "cell_type": "markdown",
   "metadata": {},
   "source": [
    "## When do we usually see named cyclone with the letter “C”"
   ]
  },
  {
   "cell_type": "code",
   "execution_count": 31,
   "metadata": {
    "scrolled": true
   },
   "outputs": [
    {
     "data": {
      "text/html": [
       "<div>\n",
       "<style scoped>\n",
       "    .dataframe tbody tr th:only-of-type {\n",
       "        vertical-align: middle;\n",
       "    }\n",
       "\n",
       "    .dataframe tbody tr th {\n",
       "        vertical-align: top;\n",
       "    }\n",
       "\n",
       "    .dataframe thead th {\n",
       "        text-align: right;\n",
       "    }\n",
       "</style>\n",
       "<table border=\"1\" class=\"dataframe\">\n",
       "  <thead>\n",
       "    <tr style=\"text-align: right;\">\n",
       "      <th></th>\n",
       "      <th>YY-MM-DD</th>\n",
       "      <th>UNIQUE STORM NAME</th>\n",
       "      <th>UTC (HOURS)</th>\n",
       "      <th>RECORD IDENTIFIER</th>\n",
       "      <th>STATUS OF SYSTEM</th>\n",
       "      <th>LATITUDE</th>\n",
       "      <th>LONGITUDE</th>\n",
       "      <th>WIND SPEED</th>\n",
       "      <th>PRESSURE</th>\n",
       "      <th>SR</th>\n",
       "      <th>YEAR</th>\n",
       "      <th>MONTH</th>\n",
       "      <th>DATE</th>\n",
       "      <th>DDMM</th>\n",
       "      <th>JULIAN</th>\n",
       "      <th>START DATE</th>\n",
       "      <th>END DATE</th>\n",
       "      <th>TOTAL</th>\n",
       "    </tr>\n",
       "  </thead>\n",
       "  <tbody>\n",
       "    <tr>\n",
       "      <th>0</th>\n",
       "      <td>19500821</td>\n",
       "      <td>CHARLIE1950233</td>\n",
       "      <td>1200</td>\n",
       "      <td>61</td>\n",
       "      <td>TS</td>\n",
       "      <td>11.1N</td>\n",
       "      <td>26.4W</td>\n",
       "      <td>35</td>\n",
       "      <td>-999</td>\n",
       "      <td>21991</td>\n",
       "      <td>1950</td>\n",
       "      <td>8</td>\n",
       "      <td>21</td>\n",
       "      <td>21-Aug</td>\n",
       "      <td>233</td>\n",
       "      <td>19500821</td>\n",
       "      <td>19500905</td>\n",
       "      <td>85</td>\n",
       "    </tr>\n",
       "    <tr>\n",
       "      <th>1</th>\n",
       "      <td>19510812</td>\n",
       "      <td>CHARLIE1951224</td>\n",
       "      <td>0</td>\n",
       "      <td>52</td>\n",
       "      <td>TD</td>\n",
       "      <td>12.1N</td>\n",
       "      <td>44.1W</td>\n",
       "      <td>30</td>\n",
       "      <td>-999</td>\n",
       "      <td>22512</td>\n",
       "      <td>1951</td>\n",
       "      <td>8</td>\n",
       "      <td>12</td>\n",
       "      <td>12-Aug</td>\n",
       "      <td>224</td>\n",
       "      <td>19510812</td>\n",
       "      <td>19510823</td>\n",
       "      <td>12</td>\n",
       "    </tr>\n",
       "  </tbody>\n",
       "</table>\n",
       "</div>"
      ],
      "text/plain": [
       "   YY-MM-DD UNIQUE STORM NAME  UTC (HOURS)  RECORD IDENTIFIER  \\\n",
       "0  19500821    CHARLIE1950233         1200                 61   \n",
       "1  19510812    CHARLIE1951224            0                 52   \n",
       "\n",
       "  STATUS OF SYSTEM LATITUDE LONGITUDE  WIND SPEED  PRESSURE     SR  YEAR  \\\n",
       "0               TS    11.1N     26.4W          35      -999  21991  1950   \n",
       "1               TD    12.1N     44.1W          30      -999  22512  1951   \n",
       "\n",
       "   MONTH  DATE    DDMM  JULIAN  START DATE  END DATE  TOTAL  \n",
       "0      8    21  21-Aug     233    19500821  19500905     85  \n",
       "1      8    12  12-Aug     224    19510812  19510823     12  "
      ]
     },
     "execution_count": 31,
     "metadata": {},
     "output_type": "execute_result"
    }
   ],
   "source": [
    "# Read the mouse data and the study results\n",
    "Ccyclone_df = pd.read_csv(\"raw_data/OR_cleaned_up_c_storms.csv\")\n",
    "\n",
    "# Display the DataFrame\n",
    "Ccyclone_df.head(2)"
   ]
  },
  {
   "cell_type": "code",
   "execution_count": 32,
   "metadata": {},
   "outputs": [
    {
     "data": {
      "image/png": "[encoded data removed]",
      "text/plain": [
       "<Figure size 792x504 with 1 Axes>"
      ]
     },
     "metadata": {
      "needs_background": "light"
     },
     "output_type": "display_data"
    }
   ],
   "source": [
    "# Generate a line plot of cyclone and the time of year\n",
    "x_axis = Ccyclone_df[\"YEAR\"]\n",
    "y_axis = Ccyclone_df[\"JULIAN\"]\n",
    "\n",
    "# Generate a plot and set the textual properties    \n",
    "fig = plt.figure(figsize=(11,7))\n",
    "\n",
    "# Sets the x and y limits of the current chart\n",
    "plt.xlim(min(x_axis) - 4, max(x_axis) + 4)\n",
    "plt.ylim(min(y_axis) - 7, max(y_axis) + 7)\n",
    "\n",
    "# Make a color map\n",
    "t = np.arange(len(Ccyclone_df[\"YEAR\"]))\n",
    "\n",
    "# Create a scatter plot\n",
    "plt.scatter(x = Ccyclone_df[\"YEAR\"], y = Ccyclone_df[\"JULIAN\"], edgecolor = \"black\", s = 150, c = t, cmap = \"rainbow\")\n",
    "\n",
    "# Give our chart some labels and a title\n",
    "plt.title(\"C cyclones vs. Time of year\", fontsize=19)\n",
    "plt.xlabel(\"Year\", fontsize = 14)\n",
    "plt.ylabel(\"Julian day of the year\", fontsize = 14)\n",
    "plt.grid(False)\n",
    "\n",
    "# Calculate and plot the regression\n",
    "(slope, intercept, rvalue, pvalue, stderr) = linregress(x_axis, y_axis)\n",
    "regress_values = x_axis * slope + intercept\n",
    "line_eq = \"y = \" + str(round(slope,2)) + \"x + \" +  str(round(intercept,2))\n",
    "plt.plot(x_axis, regress_values, \"r-\")\n",
    "\n",
    "# Anchor the line annotation\n",
    "text =(line_eq + ', R$^{2}$ = ' + str(round(rvalue,2)))\n",
    "props = dict(boxstyle = 'round', facecolor = 'white', alpha = 0.4, edgecolor = 'none')        \n",
    "fig.text(0.11, 0.11, text, size = 11, bbox = props, fontsize = 14, color ='red')\n",
    "\n",
    "# Resize the plot\n",
    "plt.tight_layout()\n",
    "\n",
    "# Show the plot\n",
    "plt.show()"
   ]
  },
  {
   "cell_type": "markdown",
   "metadata": {},
   "source": [
    "# Cyclones impact on Demographics"
   ]
  },
  {
   "cell_type": "code",
   "execution_count": 22,
   "metadata": {},
   "outputs": [
    {
     "ename": "ImportError",
     "evalue": "cannot import name 'api_key' from 'config' (C:\\Users\\orodrigues\\Downloads\\1.0_DVA\\! Homework submissions\\Project scribblings\\Submission\\config.py)",
     "output_type": "error",
     "traceback": [
      "\u001b[1;31m---------------------------------------------------------------------------\u001b[0m",
      "\u001b[1;31mImportError\u001b[0m                               Traceback (most recent call last)",
      "\u001b[1;32m<ipython-input-22-79086cc63403>\u001b[0m in \u001b[0;36m<module>\u001b[1;34m\u001b[0m\n\u001b[0;32m     10\u001b[0m \u001b[1;33m\u001b[0m\u001b[0m\n\u001b[0;32m     11\u001b[0m \u001b[1;31m# Census API Key\u001b[0m\u001b[1;33m\u001b[0m\u001b[1;33m\u001b[0m\u001b[1;33m\u001b[0m\u001b[0m\n\u001b[1;32m---> 12\u001b[1;33m \u001b[1;32mfrom\u001b[0m \u001b[0mconfig\u001b[0m \u001b[1;32mimport\u001b[0m \u001b[0mapi_key\u001b[0m\u001b[1;33m\u001b[0m\u001b[1;33m\u001b[0m\u001b[0m\n\u001b[0m",
      "\u001b[1;31mImportError\u001b[0m: cannot import name 'api_key' from 'config' (C:\\Users\\orodrigues\\Downloads\\1.0_DVA\\! Homework submissions\\Project scribblings\\Submission\\config.py)"
     ]
    }
   ],
   "source": [
    "#!pip install us\n",
    "\n",
    "# Dependencies\n",
    "import numpy as np\n",
    "import pandas as pd\n",
    "pd.options.mode.chained_assignment = None\n",
    "import matplotlib.pyplot as plt\n",
    "import requests\n",
    "from census import Census\n",
    "\n",
    "# Census API Key\n",
    "from config import census_api_key"
   ]
  },
  {
   "cell_type": "markdown",
   "metadata": {},
   "source": [
    "# 2016"
   ]
  },
  {
   "cell_type": "code",
   "execution_count": null,
   "metadata": {},
   "outputs": [],
   "source": [
    "# 2016 Census API Key\n",
    "c = Census(census_api_key, year=2016)"
   ]
  },
  {
   "cell_type": "code",
   "execution_count": null,
   "metadata": {},
   "outputs": [],
   "source": [
    "# Run Census Search to retrieve data on all zip codes (2016 ACS5 Census)\n",
    "census_2016_data = c.acs5.get((\"NAME\", \"B19013_001E\", \"B01003_001E\", \"B01002_001E\",\n",
    "                          \"B19301_001E\",\"B17001_002E\", \"B25077_001E\"), {'for': 'zip code tabulation area:*'})\n",
    "\n",
    "# Convert to DataFrame\n",
    "census_2016_df = pd.DataFrame(census_2016_data)\n",
    "\n",
    "# Column Reordering\n",
    "census_2016_df = census_2016_df.rename(columns={\"B01003_001E\": \"Population\",\n",
    "                                                \"B17001_002E\": \"Poverty Count\",\n",
    "                                                \"B25077_001E\": \"Median Home Value\",\n",
    "                                                \"NAME\": \"Name\", \n",
    "                                                \"zip code tabulation area\": \"Zipcode\"})\n",
    "census_2016_df.head()"
   ]
  },
  {
   "cell_type": "code",
   "execution_count": null,
   "metadata": {},
   "outputs": [],
   "source": [
    "# Final DataFrame\n",
    "census_2016_df = census_2016_df[[\"Zipcode\", \"Population\", \"Poverty Count\", \"Median Home Value\"]]\n",
    "\n",
    "# Visualize\n",
    "print(len(census_2016_df))\n",
    "census_2016_df.head()"
   ]
  },
  {
   "cell_type": "code",
   "execution_count": null,
   "metadata": {},
   "outputs": [],
   "source": [
    "# Create Zip Code List\n",
    "# Maria zip codes: 00653 (PR Guanica), 00656 (PR Guayanilla), 00962 (PR Cataño)\n",
    "# Irma zip codes: 33042(FL Cudjoe Key), 34112 (FL Naples), 34145 (FL Marco Island)\n",
    "# Harvey zip codes:  77382 (TX Rockport), 77642 (TX Port Arthur), 77701 (TX Beaumont)\n",
    "\n",
    "zip_code_2016_list = [\"00653\", \"00656\", \"00962\", \"33042\", \"34112\", \"34145\", \"77382\", \"77642\", \"77701\"]"
   ]
  },
  {
   "cell_type": "code",
   "execution_count": null,
   "metadata": {},
   "outputs": [],
   "source": [
    "# Create Dataframe with Zip Codes in Zip Code List\n",
    "zip_code_2016_df = census_2016_df[census_2016_df[\"Zipcode\"].isin(zip_code_2016_list)]\n",
    "zip_code_2016_df"
   ]
  },
  {
   "cell_type": "code",
   "execution_count": null,
   "metadata": {},
   "outputs": [],
   "source": [
    "# Using .rename(columns={}) in order to rename columns\n",
    "\n",
    "renamed_2016_df = zip_code_2016_df.rename(columns={\"Population\":\"2016 Population\", \"Poverty Count\":\"2016 Poverty Count\", \"Poverty Rate\":\"2016 Poverty Rate\", \"Median Home Value\":\"2016 Median Home Value\"})\n",
    "renamed_2016_df.head()"
   ]
  },
  {
   "cell_type": "markdown",
   "metadata": {},
   "source": [
    "# 2018"
   ]
  },
  {
   "cell_type": "code",
   "execution_count": null,
   "metadata": {},
   "outputs": [],
   "source": [
    "# 2018 Census API Key\n",
    "u = Census(census_api_key, year=2018)"
   ]
  },
  {
   "cell_type": "code",
   "execution_count": null,
   "metadata": {},
   "outputs": [],
   "source": [
    "# Run Census Search to retrieve data on all zip codes (2018 ACS5 Census)\n",
    "census_2018_data = u.acs5.get((\"NAME\", \"B19013_001E\", \"B01003_001E\", \"B01002_001E\",\n",
    "                          \"B19301_001E\",\"B17001_002E\", \"B25077_001E\"), {'for': 'zip code tabulation area:*'})\n",
    "\n",
    "# Convert to DataFrame\n",
    "census_2018_df = pd.DataFrame(census_2018_data)\n",
    "\n",
    "# Column Reordering\n",
    "census_2018_df = census_2018_df.rename(columns={\"B01003_001E\": \"Population\",\n",
    "                                                \"B17001_002E\": \"Poverty Count\",\n",
    "                                                \"B25077_001E\": \"Median Home Value\",\n",
    "                                                \"NAME\": \"Name\", \n",
    "                                                \"zip code tabulation area\": \"Zipcode\"})\n",
    "census_2018_df.shape"
   ]
  },
  {
   "cell_type": "code",
   "execution_count": null,
   "metadata": {},
   "outputs": [],
   "source": [
    "# Drop rows with NaN data with .dropna\n",
    "update_census_2018_df = census_2018_df.dropna(how='any')\n",
    "update_census_2018_df.head()"
   ]
  },
  {
   "cell_type": "code",
   "execution_count": null,
   "metadata": {},
   "outputs": [],
   "source": [
    "# Final DataFrame\n",
    "update_census_2018_df = update_census_2018_df[[\"Zipcode\", \"Population\", \"Poverty Count\", \"Median Home Value\"]]\n",
    "\n",
    "# Visualize\n",
    "print(len(update_census_2018_df))\n",
    "update_census_2018_df.head()"
   ]
  },
  {
   "cell_type": "code",
   "execution_count": null,
   "metadata": {},
   "outputs": [],
   "source": [
    "# Create Zip Code List\n",
    "# Maria zip codes: 00653 (PR Guanica), 00656 (PR Guayanilla), 00962 (PR Cataño)\n",
    "# Irma zip codes: 33042(FL Cudjoe Key), 34112 (FL Naples), 34145 (FL Marco Island)\n",
    "# Harvey zip codes:  77382 (TX Rockport), 77642 (TX Port Arthur), 77701 (TX Beaumont)\n",
    "\n",
    "zip_code_2016_list = [\"00653\", \"00656\", \"00962\", \"33042\", \"34112\", \"34145\", \"77382\", \"77642\", \"77701\"]"
   ]
  },
  {
   "cell_type": "code",
   "execution_count": null,
   "metadata": {},
   "outputs": [],
   "source": [
    "# Create Dataframe with Zip Codes in Zip Code List\n",
    "zip_code_2018_df = update_census_2018_df[update_census_2018_df[\"Zipcode\"].isin(zip_code_2016_list)]\n",
    "zip_code_2018_df"
   ]
  },
  {
   "cell_type": "code",
   "execution_count": null,
   "metadata": {},
   "outputs": [],
   "source": [
    "# Using .rename(columns={}) in order to rename columns\n",
    "\n",
    "renamed_2018_df = zip_code_2018_df.rename(columns={\"Population\":\"2018 Population\", \"Poverty Count\":\"2018 Poverty Count\", \"Poverty Rate\":\"2018 Poverty Rate\", \"Median Home Value\":\"2018 Median Home Value\"})\n",
    "renamed_2018_df.head()"
   ]
  },
  {
   "cell_type": "markdown",
   "metadata": {},
   "source": [
    "# Merging 2016 and 2018"
   ]
  },
  {
   "cell_type": "code",
   "execution_count": null,
   "metadata": {},
   "outputs": [],
   "source": [
    "# Merge 2016 and 2018 dataframes on Zipcode\n",
    "merge_table_df = pd.merge(renamed_2016_df, renamed_2018_df, on=\"Zipcode\")\n",
    "merge_table_df"
   ]
  },
  {
   "cell_type": "markdown",
   "metadata": {},
   "source": [
    "# Plotting"
   ]
  },
  {
   "cell_type": "code",
   "execution_count": null,
   "metadata": {},
   "outputs": [],
   "source": [
    "# Use DataFrame.plot() in order to create a bar chart of the data\n",
    "merge_table_df.plot(x=\"Zipcode\", y=[\"2016 Population\", \"2018 Population\"], kind=\"bar\")\n",
    "\n",
    "# Set a title for the chart\n",
    "plt.title(\"2016 Population vs. 2018 Population\")\n",
    "\n",
    "# Set a y label for the chart\n",
    "plt.ylabel(\"Population\")\n",
    "\n",
    "plt.savefig(\"2016 Population vs 2018 Population\")\n",
    "\n",
    "plt.show"
   ]
  },
  {
   "cell_type": "code",
   "execution_count": null,
   "metadata": {},
   "outputs": [],
   "source": [
    "# Use DataFrame.plot() in order to create a bar chart of the data\n",
    "merge_table_df.plot(x=\"Zipcode\", y=[\"2016 Median Home Value\", \"2018 Median Home Value\"], kind=\"bar\")\n",
    "\n",
    "# Set a title for the chart\n",
    "plt.title(\"2016 Median Home Value vs. 2018 Median Home Value\")\n",
    "\n",
    "# Set a y label for the chart\n",
    "plt.ylabel(\"Median Home Value\")\n",
    "\n",
    "plt.savefig(\"2016 Median Home Value vs 2018 Median Home Value\")\n",
    "\n",
    "plt.show"
   ]
  },
  {
   "cell_type": "code",
   "execution_count": null,
   "metadata": {},
   "outputs": [],
   "source": [
    "# Use DataFrame.plot() in order to create a bar chart of the data\n",
    "merge_table_df.plot(x=\"Zipcode\", y=[\"2016 Poverty Count\", \"2018 Poverty Count\"], kind=\"bar\")\n",
    "\n",
    "# Set a title for the chart\n",
    "plt.title(\"2016 Poverty Count vs. 2018 Poverty Count\")\n",
    "\n",
    "# Set a y label for the chart\n",
    "plt.ylabel(\"Poverty Count\")\n",
    "\n",
    "plt.savefig(\"2016 Poverty Count vs 2018 Poverty Count\")\n",
    "\n",
    "plt.show"
   ]
  }
 ],
 "metadata": {
  "kernelspec": {
   "display_name": "Python 3",
   "language": "python",
   "name": "python3"
  },
  "language_info": {
   "codemirror_mode": {
    "name": "ipython",
    "version": 3
   },
   "file_extension": ".py",
   "mimetype": "text/x-python",
   "name": "python",
   "nbconvert_exporter": "python",
   "pygments_lexer": "ipython3",
   "version": "3.7.6"
  }
 },
 "nbformat": 4,
 "nbformat_minor": 4
}
